{
  "nbformat": 4,
  "nbformat_minor": 0,
  "metadata": {
    "colab": {
      "provenance": []
    },
    "kernelspec": {
      "name": "julia",
      "display_name": "Julia"
    },
    "language_info": {
      "name": "julia"
    }
  },
  "cells": [
    {
      "cell_type": "markdown",
      "source": [
        "# difFUBAR\n",
        "\n",
        "difFUBAR is an approximate Bayesian analysis of adaptive evolution. For each codon site, difFUBAR compares $\\omega$, the non-synonymous to synonymous substitution rate ratio ($\\beta/\\alpha$, or $dN/dS$) between two predefined clades on a phylogeny.\n",
        "\n",
        "## You need:\n",
        "\n",
        "- A **codon** multiple sequence alignment, in `.fasta` format.\n",
        "- A [Newick](https://en.wikipedia.org/wiki/Newick_format) phylogeny (typically estimated from the alignment) where the taxon names match the alignment, and where nodes have been tagged (eg. `taxon_name{G1}` in the phylogeny string).\n",
        " - There must be two different tags, which define the groups to be compared, and any untagged branches will not participate in the comparison.\n",
        "\n",
        "## Tips:\n",
        "- You can upload your tree to our [phylogeny tagging utility](https://murrellgroup.github.io/WebWidgets/phylotagger.html) to label clades.\n",
        "- Try and avoid potentially problematic characters (space, colon, semicolon, brackets, etc) in your sequence names (clean these up before you construct the phylogeny to make sure the names match).\n",
        "- Visually inspect your alignments, both as nucleotide sequences and as their translations (we like [AliView](https://ormbunkar.se/aliview/)).\n",
        "- Package installation and precompilation takes some time on Colab.\n",
        " - **If you instead install and run Julia locally, you only ever need to do this once!**\n",
        " - Go [here](https://julialang.org/install/) for instructions on how to install Julia\n",
        "\n",
        "\n",
        "This notebook will run with demo files. If you wish to analyze your own files, upload them using the Colab files menu on the left: ![image.png](data:image/png;base64,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)\n",
        "→\n",
        "![image.png](data:image/png;base64,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)"
      ],
      "metadata": {
        "id": "fm1ygLgwe4WG"
      }
    },
    {
      "cell_type": "code",
      "execution_count": 1,
      "metadata": {
        "colab": {
          "base_uri": "https://localhost:8080/"
        },
        "id": "EAIQlJspegzq",
        "outputId": "5c255462-0430-4df2-fa33-23a5d393f4bb"
      },
      "outputs": [
        {
          "output_type": "stream",
          "name": "stderr",
          "text": [
            "\u001b[32m\u001b[1m    Updating\u001b[22m\u001b[39m registry at `~/.julia/registries/General.toml`\n",
            "\u001b[32m\u001b[1m   Resolving\u001b[22m\u001b[39m package versions...\n",
            "\u001b[32m\u001b[1m   Installed\u001b[22m\u001b[39m Suppressor ─ v0.2.8\n",
            "\u001b[32m\u001b[1m    Updating\u001b[22m\u001b[39m `~/.julia/environments/v1.10/Project.toml`\n",
            "  \u001b[90m[fd094767] \u001b[39m\u001b[92m+ Suppressor v0.2.8\u001b[39m\n",
            "\u001b[32m\u001b[1m    Updating\u001b[22m\u001b[39m `~/.julia/environments/v1.10/Manifest.toml`\n",
            "  \u001b[90m[fd094767] \u001b[39m\u001b[92m+ Suppressor v0.2.8\u001b[39m\n",
            "\u001b[32m\u001b[1mPrecompiling\u001b[22m\u001b[39m packages...\n",
            "   3119.1 ms\u001b[32m  ✓ \u001b[39mSuppressor\n",
            "  1 dependency successfully precompiled in 11 seconds. 459 already precompiled.\n"
          ]
        }
      ],
      "source": [
        "#Install and load packages: (this can take some time the first time on Colab)\n",
        "using Pkg\n",
        "Pkg.add(\"Suppressor\") #Suppressor, with @suppress and @suppress_err macros are just to prevent long outputs from clogging up the notebook example - you don't really need them.\n",
        "using Suppressor\n",
        "@suppress Pkg.rm([\"Lux\",\"Reactant\"])\n",
        "@suppress Pkg.add([\"MolecularEvolution\", \"FASTX\"])\n",
        "@suppress Pkg.add(url = \"https://github.com/MurrellGroup/CodonMolecularEvolution.jl\")\n",
        "using MolecularEvolution, FASTX, CodonMolecularEvolution"
      ]
    },
    {
      "cell_type": "code",
      "source": [
        "#Fetch the demo multiple sequence alignment, and tagged phylogeny:\n",
        "@suppress run(`wget https://raw.githubusercontent.com/MurrellGroup/CodonMolecularEvolution.jl/refs/heads/main/docs/src/H5_subsampled.fasta`);\n",
        "@suppress run(`wget https://raw.githubusercontent.com/MurrellGroup/CodonMolecularEvolution.jl/refs/heads/main/docs/src/H5_subsampled_tagged.tre`);\n",
        "(\"H5_subsampled.fasta\" in readdir() && \"H5_subsampled_tagged.tre\" in readdir()) && println(\"Files fetched!\")"
      ],
      "metadata": {
        "colab": {
          "base_uri": "https://localhost:8080/"
        },
        "id": "rLXVbfnuiHR8",
        "outputId": "e842a2df-498e-4223-b20b-448dddea3239"
      },
      "execution_count": 2,
      "outputs": [
        {
          "output_type": "stream",
          "name": "stdout",
          "text": [
            "Files fetched!\n"
          ]
        }
      ]
    },
    {
      "cell_type": "code",
      "source": [
        "seqnames,seqs = read_fasta(\"H5_subsampled.fasta\"); #<- Reads in fasta alignment\n",
        "treestring = readlines(open(\"H5_subsampled_tagged.tre\"))[1]; #<- Reads in phylogeny (as a string)\n",
        "df,results = @suppress_err difFUBAR(seqnames, seqs, treestring, [\"{G1}\", \"{G2}\"], \"difFUBAR_H5_subsampled\"); #<- Runs difFUBAR (note: the [\"{G1}\", \"{G2}\"] must match whatever tags you have on your tree)"
      ],
      "metadata": {
        "colab": {
          "base_uri": "https://localhost:8080/"
        },
        "id": "B7ap2XULepNu",
        "outputId": "81e8dcd7-98c7-4fb0-b34d-90803ab84a7f"
      },
      "execution_count": 8,
      "outputs": [
        {
          "output_type": "stream",
          "name": "stdout",
          "text": [
            "Step 1: Initialization. If exports = true, tree showing the assignment of branches to groups/colors will be exported to: difFUBAR_H5_subsampled_tagged_input_tree.svg.\n",
            "Step 2: Optimizing global codon model parameters.\n",
            "Optimized single α,β LL=-61147.43019454108 with α=2.4528778755382867 and β=0.42151196711816985.\n",
            "Step 3: Calculating grid of 1728-by-570 conditional likelihood values (the slowest step). Currently on:\n",
            "0.0% 29.0% 58.0% 87.0% \n",
            "Step 4: Running Gibbs sampler to infer site categories.\n",
            "Step 5: Tabulating and plotting. Detected sites:\n",
            "Site 10 - P(ω1 > ω2):0.0; P(ω2 > ω1):0.9865; P(ω1 > 1):0.0035; P(ω2 > 1):0.2895\n",
            "Site 11 - P(ω1 > ω2):0.0; P(ω2 > ω1):0.9945; P(ω1 > 1):0.252; P(ω2 > 1):0.9975\n",
            "Site 12 - P(ω1 > ω2):0.0015; P(ω2 > ω1):0.9715; P(ω1 > 1):0.002; P(ω2 > 1):0.201\n",
            "Site 112 - P(ω1 > ω2):0.996; P(ω2 > ω1):0.0; P(ω1 > 1):0.0065; P(ω2 > 1):0.0\n",
            "Site 128 - P(ω1 > ω2):0.9845; P(ω2 > ω1):0.0; P(ω1 > 1):0.022; P(ω2 > 1):0.0\n",
            "Site 145 - P(ω1 > ω2):0.0; P(ω2 > ω1):0.99; P(ω1 > 1):0.0005; P(ω2 > 1):0.245\n",
            "Site 153 - P(ω1 > ω2):0.995; P(ω2 > ω1):0.0; P(ω1 > 1):0.247; P(ω2 > 1):0.0\n",
            "Site 154 - P(ω1 > ω2):0.265; P(ω2 > ω1):0.196; P(ω1 > 1):0.995; P(ω2 > 1):0.997\n",
            "Site 157 - P(ω1 > ω2):0.0005; P(ω2 > ω1):0.9595; P(ω1 > 1):0.004; P(ω2 > 1):0.0945\n",
            "Site 172 - P(ω1 > ω2):0.1685; P(ω2 > ω1):0.2005; P(ω1 > 1):0.998; P(ω2 > 1):0.999\n",
            "Site 175 - P(ω1 > ω2):1.0; P(ω2 > ω1):0.0; P(ω1 > 1):0.4675; P(ω2 > 1):0.0\n",
            "Site 200 - P(ω1 > ω2):0.0035; P(ω2 > ω1):0.9775; P(ω1 > 1):0.002; P(ω2 > 1):0.129\n",
            "Site 201 - P(ω1 > ω2):0.0; P(ω2 > ω1):0.992; P(ω1 > 1):0.0; P(ω2 > 1):0.0\n",
            "Site 211 - P(ω1 > ω2):0.9835; P(ω2 > ω1):0.0005; P(ω1 > 1):0.18; P(ω2 > 1):0.0\n",
            "Site 251 - P(ω1 > ω2):0.96; P(ω2 > ω1):0.0; P(ω1 > 1):0.007; P(ω2 > 1):0.0\n",
            "Site 278 - P(ω1 > ω2):1.0; P(ω2 > ω1):0.0; P(ω1 > 1):0.786; P(ω2 > 1):0.0\n",
            "Site 311 - P(ω1 > ω2):0.967; P(ω2 > ω1):0.0005; P(ω1 > 1):0.0025; P(ω2 > 1):0.0\n",
            "Site 334 - P(ω1 > ω2):1.0; P(ω2 > ω1):0.0; P(ω1 > 1):0.996; P(ω2 > 1):0.021\n",
            "\n",
            "If exports = true, writing results for all sites to CSV: difFUBAR_H5_subsampled_posteriors.csv\n",
            "Plotting alpha and omega distributions. If exports = true, saved as difFUBAR_H5_subsampled_violin_*.pdf\n",
            "[10, 11, 12, 112, 128, 145, 153, 154, 157, 172, 175, 200, 201, 211, 251, 278, 311, 334]\n",
            "18\n"
          ]
        }
      ]
    },
    {
      "cell_type": "markdown",
      "source": [
        "## !!! You can now download the analysis outputs, plots, etc, in the left panel: ![image.png](data:image/png;base64,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) !!!"
      ],
      "metadata": {
        "id": "F5DFhwWO89O7"
      }
    },
    {
      "cell_type": "code",
      "source": [
        "|#Retabulate, plot, etc processed data with a different posterior threshold (we'll make this simpler):\n",
        "@suppress_err difFUBAR_tabulate(\"difFUBAR_H5_subsampled_0.85\", 0.85, results[1:4]...);"
      ],
      "metadata": {
        "colab": {
          "base_uri": "https://localhost:8080/"
        },
        "id": "7cYHsoqezlXn",
        "outputId": "2a18e0d2-c0c8-474a-bc34-2639c8a6f98e"
      },
      "execution_count": 11,
      "outputs": [
        {
          "output_type": "stream",
          "name": "stdout",
          "text": [
            "Step 5: Tabulating and plotting. Detected sites:\n",
            "Site 10 - P(ω1 > ω2):0.0; P(ω2 > ω1):0.9865; P(ω1 > 1):0.0035; P(ω2 > 1):0.2895\n",
            "Site 11 - P(ω1 > ω2):0.0; P(ω2 > ω1):0.9945; P(ω1 > 1):0.252; P(ω2 > 1):0.9975\n",
            "Site 12 - P(ω1 > ω2):0.0015; P(ω2 > ω1):0.9715; P(ω1 > 1):0.002; P(ω2 > 1):0.201\n",
            "Site 16 - P(ω1 > ω2):0.013; P(ω2 > ω1):0.906; P(ω1 > 1):0.006; P(ω2 > 1):0.13\n",
            "Site 18 - P(ω1 > ω2):0.8875; P(ω2 > ω1):0.016; P(ω1 > 1):0.0945; P(ω2 > 1):0.0005\n",
            "Site 32 - P(ω1 > ω2):0.921; P(ω2 > ω1):0.001; P(ω1 > 1):0.0055; P(ω2 > 1):0.0\n",
            "Site 51 - P(ω1 > ω2):0.017; P(ω2 > ω1):0.8785; P(ω1 > 1):0.0; P(ω2 > 1):0.0\n",
            "Site 69 - P(ω1 > ω2):0.0205; P(ω2 > ω1):0.872; P(ω1 > 1):0.0; P(ω2 > 1):0.0005\n",
            "Site 87 - P(ω1 > ω2):0.009; P(ω2 > ω1):0.869; P(ω1 > 1):0.008; P(ω2 > 1):0.175\n",
            "Site 89 - P(ω1 > ω2):0.8755; P(ω2 > ω1):0.004; P(ω1 > 1):0.0; P(ω2 > 1):0.0\n",
            "Site 111 - P(ω1 > ω2):0.007; P(ω2 > ω1):0.9275; P(ω1 > 1):0.0; P(ω2 > 1):0.007\n",
            "Site 112 - P(ω1 > ω2):0.996; P(ω2 > ω1):0.0; P(ω1 > 1):0.0065; P(ω2 > 1):0.0\n",
            "Site 127 - P(ω1 > ω2):0.8995; P(ω2 > ω1):0.019; P(ω1 > 1):0.8845; P(ω2 > 1):0.433\n",
            "Site 128 - P(ω1 > ω2):0.9845; P(ω2 > ω1):0.0; P(ω1 > 1):0.022; P(ω2 > 1):0.0\n",
            "Site 142 - P(ω1 > ω2):0.8815; P(ω2 > ω1):0.0145; P(ω1 > 1):0.0495; P(ω2 > 1):0.001\n",
            "Site 145 - P(ω1 > ω2):0.0; P(ω2 > ω1):0.99; P(ω1 > 1):0.0005; P(ω2 > 1):0.245\n",
            "Site 153 - P(ω1 > ω2):0.995; P(ω2 > ω1):0.0; P(ω1 > 1):0.247; P(ω2 > 1):0.0\n",
            "Site 154 - P(ω1 > ω2):0.265; P(ω2 > ω1):0.196; P(ω1 > 1):0.995; P(ω2 > 1):0.997\n",
            "Site 157 - P(ω1 > ω2):0.0005; P(ω2 > ω1):0.9595; P(ω1 > 1):0.004; P(ω2 > 1):0.0945\n",
            "Site 170 - P(ω1 > ω2):0.873; P(ω2 > ω1):0.0285; P(ω1 > 1):0.06; P(ω2 > 1):0.0005\n",
            "Site 172 - P(ω1 > ω2):0.1685; P(ω2 > ω1):0.2005; P(ω1 > 1):0.998; P(ω2 > 1):0.999\n",
            "Site 175 - P(ω1 > ω2):1.0; P(ω2 > ω1):0.0; P(ω1 > 1):0.4675; P(ω2 > 1):0.0\n",
            "Site 177 - P(ω1 > ω2):0.901; P(ω2 > ω1):0.0025; P(ω1 > 1):0.0505; P(ω2 > 1):0.0\n",
            "Site 178 - P(ω1 > ω2):0.855; P(ω2 > ω1):0.0145; P(ω1 > 1):0.0055; P(ω2 > 1):0.0\n",
            "Site 191 - P(ω1 > ω2):0.01; P(ω2 > ω1):0.878; P(ω1 > 1):0.0; P(ω2 > 1):0.0065\n",
            "Site 192 - P(ω1 > ω2):0.907; P(ω2 > ω1):0.0025; P(ω1 > 1):0.0195; P(ω2 > 1):0.0\n",
            "Site 198 - P(ω1 > ω2):0.936; P(ω2 > ω1):0.006; P(ω1 > 1):0.119; P(ω2 > 1):0.001\n",
            "Site 200 - P(ω1 > ω2):0.0035; P(ω2 > ω1):0.9775; P(ω1 > 1):0.002; P(ω2 > 1):0.129\n",
            "Site 201 - P(ω1 > ω2):0.0; P(ω2 > ω1):0.992; P(ω1 > 1):0.0; P(ω2 > 1):0.0\n",
            "Site 206 - P(ω1 > ω2):0.0005; P(ω2 > ω1):0.914; P(ω1 > 1):0.002; P(ω2 > 1):0.0935\n",
            "Site 211 - P(ω1 > ω2):0.9835; P(ω2 > ω1):0.0005; P(ω1 > 1):0.18; P(ω2 > 1):0.0\n",
            "Site 215 - P(ω1 > ω2):0.0065; P(ω2 > ω1):0.869; P(ω1 > 1):0.0; P(ω2 > 1):0.0\n",
            "Site 234 - P(ω1 > ω2):0.0095; P(ω2 > ω1):0.8765; P(ω1 > 1):0.0; P(ω2 > 1):0.002\n",
            "Site 251 - P(ω1 > ω2):0.96; P(ω2 > ω1):0.0; P(ω1 > 1):0.007; P(ω2 > 1):0.0\n",
            "Site 278 - P(ω1 > ω2):1.0; P(ω2 > ω1):0.0; P(ω1 > 1):0.786; P(ω2 > 1):0.0\n",
            "Site 280 - P(ω1 > ω2):0.0165; P(ω2 > ω1):0.8865; P(ω1 > 1):0.0035; P(ω2 > 1):0.066\n",
            "Site 281 - P(ω1 > ω2):0.8915; P(ω2 > ω1):0.003; P(ω1 > 1):0.001; P(ω2 > 1):0.0\n",
            "Site 287 - P(ω1 > ω2):0.8635; P(ω2 > ω1):0.005; P(ω1 > 1):0.104; P(ω2 > 1):0.001\n",
            "Site 311 - P(ω1 > ω2):0.967; P(ω2 > ω1):0.0005; P(ω1 > 1):0.0025; P(ω2 > 1):0.0\n",
            "Site 334 - P(ω1 > ω2):1.0; P(ω2 > ω1):0.0; P(ω1 > 1):0.996; P(ω2 > 1):0.021\n",
            "Site 404 - P(ω1 > ω2):0.9465; P(ω2 > ω1):0.003; P(ω1 > 1):0.7545; P(ω2 > 1):0.09\n",
            "Site 411 - P(ω1 > ω2):0.9415; P(ω2 > ω1):0.0035; P(ω1 > 1):0.012; P(ω2 > 1):0.0\n",
            "Site 429 - P(ω1 > ω2):0.897; P(ω2 > ω1):0.0065; P(ω1 > 1):0.0065; P(ω2 > 1):0.0\n",
            "Site 436 - P(ω1 > ω2):0.9195; P(ω2 > ω1):0.0065; P(ω1 > 1):0.0305; P(ω2 > 1):0.0\n",
            "Site 440 - P(ω1 > ω2):0.867; P(ω2 > ω1):0.0245; P(ω1 > 1):0.008; P(ω2 > 1):0.0\n",
            "Site 467 - P(ω1 > ω2):0.8815; P(ω2 > ω1):0.012; P(ω1 > 1):0.01; P(ω2 > 1):0.0\n",
            "Site 514 - P(ω1 > ω2):0.93; P(ω2 > ω1):0.004; P(ω1 > 1):0.015; P(ω2 > 1):0.0\n",
            "Site 518 - P(ω1 > ω2):0.913; P(ω2 > ω1):0.001; P(ω1 > 1):0.0005; P(ω2 > 1):0.0\n",
            "Site 527 - P(ω1 > ω2):0.015; P(ω2 > ω1):0.911; P(ω1 > 1):0.0065; P(ω2 > 1):0.138\n",
            "Site 548 - P(ω1 > ω2):0.0635; P(ω2 > ω1):0.8735; P(ω1 > 1):0.2165; P(ω2 > 1):0.8225\n",
            "\n",
            "If exports = true, writing results for all sites to CSV: difFUBAR_H5_subsampled_0.85_posteriors.csv\n",
            "Plotting alpha and omega distributions. If exports = true, saved as difFUBAR_H5_subsampled_0.85_violin_*.pdf\n",
            "[10, 11, 12, 16, 18, 32, 51, 69, 87, 89, 111, 112, 127, 128, 142, 145, 153, 154, 157, 170, 172, 175, 177, 178, 191, 192, 198, 200, 201, 206, 211, 215, 234, 251, 278, 280, 281, 287, 311, 334, 404, 411, 429, 436, 440, 467, 514, 518, 527, 548]\n",
            "50\n"
          ]
        }
      ]
    },
    {
      "cell_type": "markdown",
      "source": [
        "<embed src=\"difFUBAR_H5_subsampled_tagged_input_tree.svg\" type=\"image/svg+xml\" />"
      ],
      "metadata": {
        "id": "hfI_ovht2Lqt"
      }
    }
  ]
}